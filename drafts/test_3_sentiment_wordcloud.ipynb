{
 "cells": [
  {
   "cell_type": "markdown",
   "metadata": {},
   "source": [
    "## WordCloud test"
   ]
  },
  {
   "cell_type": "code",
   "execution_count": 12,
   "metadata": {},
   "outputs": [
    {
     "data": {
      "text/html": [
       "<div>\n",
       "<style scoped>\n",
       "    .dataframe tbody tr th:only-of-type {\n",
       "        vertical-align: middle;\n",
       "    }\n",
       "\n",
       "    .dataframe tbody tr th {\n",
       "        vertical-align: top;\n",
       "    }\n",
       "\n",
       "    .dataframe thead th {\n",
       "        text-align: right;\n",
       "    }\n",
       "</style>\n",
       "<table border=\"1\" class=\"dataframe\">\n",
       "  <thead>\n",
       "    <tr style=\"text-align: right;\">\n",
       "      <th></th>\n",
       "      <th>Unnamed: 0</th>\n",
       "      <th>id</th>\n",
       "      <th>content</th>\n",
       "      <th>content_clean</th>\n",
       "    </tr>\n",
       "  </thead>\n",
       "  <tbody>\n",
       "    <tr>\n",
       "      <th>0</th>\n",
       "      <td>0</td>\n",
       "      <td>UgxOkhl9kay5L5gsEIR4AaABAg</td>\n",
       "      <td>The spec is just on point! So much better than...</td>\n",
       "      <td>The spec is just on point So much better than ...</td>\n",
       "    </tr>\n",
       "    <tr>\n",
       "      <th>1</th>\n",
       "      <td>1</td>\n",
       "      <td>UgxOkhl9kay5L5gsEIR4AaABAg.9cFlIEOUUok9cWxWJhndQX</td>\n",
       "      <td>@Surf alcatraz how dumb you compare a Bugatti ...</td>\n",
       "      <td>alcatraz how dumb you compare a Bugatti with ...</td>\n",
       "    </tr>\n",
       "    <tr>\n",
       "      <th>2</th>\n",
       "      <td>2</td>\n",
       "      <td>UgxOkhl9kay5L5gsEIR4AaABAg.9cFlIEOUUok9cW8nfP9eZw</td>\n",
       "      <td>0:29 look at the hood PANEL GAP difference. Le...</td>\n",
       "      <td>029 look at the hood PANEL GAP difference Left...</td>\n",
       "    </tr>\n",
       "    <tr>\n",
       "      <th>3</th>\n",
       "      <td>3</td>\n",
       "      <td>UgxOkhl9kay5L5gsEIR4AaABAg.9cFlIEOUUok9cVhDW93Ycb</td>\n",
       "      <td>@Surf alcatraz i saw a video with about this, ...</td>\n",
       "      <td>alcatraz i saw a video with about this and ap...</td>\n",
       "    </tr>\n",
       "    <tr>\n",
       "      <th>4</th>\n",
       "      <td>4</td>\n",
       "      <td>UgxOkhl9kay5L5gsEIR4AaABAg.9cFlIEOUUok9cVYtys13G3</td>\n",
       "      <td>@Michał Basiński you do understand that Mate R...</td>\n",
       "      <td>ł Basiński you do understand that Mate Rimac i...</td>\n",
       "    </tr>\n",
       "  </tbody>\n",
       "</table>\n",
       "</div>"
      ],
      "text/plain": [
       "   Unnamed: 0                                                 id  \\\n",
       "0           0                         UgxOkhl9kay5L5gsEIR4AaABAg   \n",
       "1           1  UgxOkhl9kay5L5gsEIR4AaABAg.9cFlIEOUUok9cWxWJhndQX   \n",
       "2           2  UgxOkhl9kay5L5gsEIR4AaABAg.9cFlIEOUUok9cW8nfP9eZw   \n",
       "3           3  UgxOkhl9kay5L5gsEIR4AaABAg.9cFlIEOUUok9cVhDW93Ycb   \n",
       "4           4  UgxOkhl9kay5L5gsEIR4AaABAg.9cFlIEOUUok9cVYtys13G3   \n",
       "\n",
       "                                             content  \\\n",
       "0  The spec is just on point! So much better than...   \n",
       "1  @Surf alcatraz how dumb you compare a Bugatti ...   \n",
       "2  0:29 look at the hood PANEL GAP difference. Le...   \n",
       "3  @Surf alcatraz i saw a video with about this, ...   \n",
       "4  @Michał Basiński you do understand that Mate R...   \n",
       "\n",
       "                                       content_clean  \n",
       "0  The spec is just on point So much better than ...  \n",
       "1   alcatraz how dumb you compare a Bugatti with ...  \n",
       "2  029 look at the hood PANEL GAP difference Left...  \n",
       "3   alcatraz i saw a video with about this and ap...  \n",
       "4  ł Basiński you do understand that Mate Rimac i...  "
      ]
     },
     "execution_count": 12,
     "metadata": {},
     "output_type": "execute_result"
    }
   ],
   "source": [
    "import pandas as pd\n",
    "import sys  \n",
    "sys.path.insert(0, \"/Users/philippjohn/Developer/youtube-analytics\")\n",
    "import wcloud\n",
    "\n",
    "car_name = \"Bugatti_Centodieci\"\n",
    "df = pd.read_csv(\"../data/\" + car_name + \"/content_clean.csv\", header=[0])\n",
    "\n",
    "df.head()"
   ]
  },
  {
   "cell_type": "code",
   "execution_count": 15,
   "metadata": {},
   "outputs": [
    {
     "name": "stderr",
     "output_type": "stream",
     "text": [
      "[nltk_data] Downloading package stopwords to\n",
      "[nltk_data]     /Users/philippjohn/nltk_data...\n",
      "[nltk_data]   Package stopwords is already up-to-date!\n"
     ]
    },
    {
     "ename": "AttributeError",
     "evalue": "'float' object has no attribute 'split'",
     "output_type": "error",
     "traceback": [
      "\u001b[0;31m---------------------------------------------------------------------------\u001b[0m",
      "\u001b[0;31mAttributeError\u001b[0m                            Traceback (most recent call last)",
      "\u001b[1;32m/Users/philippjohn/Developer/youtube-analytics/drafts/test3.ipynb Cell 3'\u001b[0m in \u001b[0;36m<cell line: 1>\u001b[0;34m()\u001b[0m\n\u001b[0;32m----> <a href='vscode-notebook-cell:/Users/philippjohn/Developer/youtube-analytics/drafts/test3.ipynb#ch0000004?line=0'>1</a>\u001b[0m df_no_stopwords \u001b[39m=\u001b[39m wcloud\u001b[39m.\u001b[39;49mremove_stopwords(name\u001b[39m=\u001b[39;49mcar_name, df\u001b[39m=\u001b[39;49mdf)\n\u001b[1;32m      <a href='vscode-notebook-cell:/Users/philippjohn/Developer/youtube-analytics/drafts/test3.ipynb#ch0000004?line=1'>2</a>\u001b[0m df_no_stopwords\u001b[39m.\u001b[39mhead()\n",
      "File \u001b[0;32m~/Developer/youtube-analytics/wcloud.py:16\u001b[0m, in \u001b[0;36mremove_stopwords\u001b[0;34m(name, df)\u001b[0m\n\u001b[1;32m     13\u001b[0m     \u001b[39mreturn\u001b[39;00m \u001b[39m\"\u001b[39m\u001b[39m \u001b[39m\u001b[39m\"\u001b[39m\u001b[39m.\u001b[39mjoin([word \u001b[39mfor\u001b[39;00m word \u001b[39min\u001b[39;00m token \u001b[39mif\u001b[39;00m \u001b[39mnot\u001b[39;00m word \u001b[39min\u001b[39;00m english_stop_words])\n\u001b[1;32m     15\u001b[0m \u001b[39m# Remove stopwords and create new col in df\u001b[39;00m\n\u001b[0;32m---> 16\u001b[0m df[\u001b[39m'\u001b[39m\u001b[39mcontent_no_stopwords\u001b[39m\u001b[39m'\u001b[39m]  \u001b[39m=\u001b[39m df[\u001b[39m'\u001b[39;49m\u001b[39mcontent_clean\u001b[39;49m\u001b[39m'\u001b[39;49m]\u001b[39m.\u001b[39;49mapply(stop_word_removal_nltk)\n\u001b[1;32m     18\u001b[0m \u001b[39m# Write df to csv\u001b[39;00m\n\u001b[1;32m     19\u001b[0m df\u001b[39m.\u001b[39mto_csv(\u001b[39m\"\u001b[39m\u001b[39mdata/\u001b[39m\u001b[39m\"\u001b[39m \u001b[39m+\u001b[39m name \u001b[39m+\u001b[39m \u001b[39m\"\u001b[39m\u001b[39m/content_no_stopwords.csv\u001b[39m\u001b[39m\"\u001b[39m)  \n",
      "File \u001b[0;32m/usr/local/lib/python3.9/site-packages/pandas/core/series.py:4433\u001b[0m, in \u001b[0;36mSeries.apply\u001b[0;34m(self, func, convert_dtype, args, **kwargs)\u001b[0m\n\u001b[1;32m   4323\u001b[0m \u001b[39mdef\u001b[39;00m \u001b[39mapply\u001b[39m(\n\u001b[1;32m   4324\u001b[0m     \u001b[39mself\u001b[39m,\n\u001b[1;32m   4325\u001b[0m     func: AggFuncType,\n\u001b[0;32m   (...)\u001b[0m\n\u001b[1;32m   4328\u001b[0m     \u001b[39m*\u001b[39m\u001b[39m*\u001b[39mkwargs,\n\u001b[1;32m   4329\u001b[0m ) \u001b[39m-\u001b[39m\u001b[39m>\u001b[39m DataFrame \u001b[39m|\u001b[39m Series:\n\u001b[1;32m   4330\u001b[0m     \u001b[39m\"\"\"\u001b[39;00m\n\u001b[1;32m   4331\u001b[0m \u001b[39m    Invoke function on values of Series.\u001b[39;00m\n\u001b[1;32m   4332\u001b[0m \n\u001b[0;32m   (...)\u001b[0m\n\u001b[1;32m   4431\u001b[0m \u001b[39m    dtype: float64\u001b[39;00m\n\u001b[1;32m   4432\u001b[0m \u001b[39m    \"\"\"\u001b[39;00m\n\u001b[0;32m-> 4433\u001b[0m     \u001b[39mreturn\u001b[39;00m SeriesApply(\u001b[39mself\u001b[39;49m, func, convert_dtype, args, kwargs)\u001b[39m.\u001b[39;49mapply()\n",
      "File \u001b[0;32m/usr/local/lib/python3.9/site-packages/pandas/core/apply.py:1082\u001b[0m, in \u001b[0;36mSeriesApply.apply\u001b[0;34m(self)\u001b[0m\n\u001b[1;32m   1078\u001b[0m \u001b[39mif\u001b[39;00m \u001b[39misinstance\u001b[39m(\u001b[39mself\u001b[39m\u001b[39m.\u001b[39mf, \u001b[39mstr\u001b[39m):\n\u001b[1;32m   1079\u001b[0m     \u001b[39m# if we are a string, try to dispatch\u001b[39;00m\n\u001b[1;32m   1080\u001b[0m     \u001b[39mreturn\u001b[39;00m \u001b[39mself\u001b[39m\u001b[39m.\u001b[39mapply_str()\n\u001b[0;32m-> 1082\u001b[0m \u001b[39mreturn\u001b[39;00m \u001b[39mself\u001b[39;49m\u001b[39m.\u001b[39;49mapply_standard()\n",
      "File \u001b[0;32m/usr/local/lib/python3.9/site-packages/pandas/core/apply.py:1137\u001b[0m, in \u001b[0;36mSeriesApply.apply_standard\u001b[0;34m(self)\u001b[0m\n\u001b[1;32m   1131\u001b[0m         values \u001b[39m=\u001b[39m obj\u001b[39m.\u001b[39mastype(\u001b[39mobject\u001b[39m)\u001b[39m.\u001b[39m_values\n\u001b[1;32m   1132\u001b[0m         \u001b[39m# error: Argument 2 to \"map_infer\" has incompatible type\u001b[39;00m\n\u001b[1;32m   1133\u001b[0m         \u001b[39m# \"Union[Callable[..., Any], str, List[Union[Callable[..., Any], str]],\u001b[39;00m\n\u001b[1;32m   1134\u001b[0m         \u001b[39m# Dict[Hashable, Union[Union[Callable[..., Any], str],\u001b[39;00m\n\u001b[1;32m   1135\u001b[0m         \u001b[39m# List[Union[Callable[..., Any], str]]]]]\"; expected\u001b[39;00m\n\u001b[1;32m   1136\u001b[0m         \u001b[39m# \"Callable[[Any], Any]\"\u001b[39;00m\n\u001b[0;32m-> 1137\u001b[0m         mapped \u001b[39m=\u001b[39m lib\u001b[39m.\u001b[39;49mmap_infer(\n\u001b[1;32m   1138\u001b[0m             values,\n\u001b[1;32m   1139\u001b[0m             f,  \u001b[39m# type: ignore[arg-type]\u001b[39;49;00m\n\u001b[1;32m   1140\u001b[0m             convert\u001b[39m=\u001b[39;49m\u001b[39mself\u001b[39;49m\u001b[39m.\u001b[39;49mconvert_dtype,\n\u001b[1;32m   1141\u001b[0m         )\n\u001b[1;32m   1143\u001b[0m \u001b[39mif\u001b[39;00m \u001b[39mlen\u001b[39m(mapped) \u001b[39mand\u001b[39;00m \u001b[39misinstance\u001b[39m(mapped[\u001b[39m0\u001b[39m], ABCSeries):\n\u001b[1;32m   1144\u001b[0m     \u001b[39m# GH#43986 Need to do list(mapped) in order to get treated as nested\u001b[39;00m\n\u001b[1;32m   1145\u001b[0m     \u001b[39m#  See also GH#25959 regarding EA support\u001b[39;00m\n\u001b[1;32m   1146\u001b[0m     \u001b[39mreturn\u001b[39;00m obj\u001b[39m.\u001b[39m_constructor_expanddim(\u001b[39mlist\u001b[39m(mapped), index\u001b[39m=\u001b[39mobj\u001b[39m.\u001b[39mindex)\n",
      "File \u001b[0;32mpandas/_libs/lib.pyx:2870\u001b[0m, in \u001b[0;36mpandas._libs.lib.map_infer\u001b[0;34m()\u001b[0m\n",
      "File \u001b[0;32m~/Developer/youtube-analytics/wcloud.py:12\u001b[0m, in \u001b[0;36mremove_stopwords.<locals>.stop_word_removal_nltk\u001b[0;34m(content)\u001b[0m\n\u001b[1;32m     11\u001b[0m \u001b[39mdef\u001b[39;00m \u001b[39mstop_word_removal_nltk\u001b[39m(content):\n\u001b[0;32m---> 12\u001b[0m     token \u001b[39m=\u001b[39m content\u001b[39m.\u001b[39;49msplit()\n\u001b[1;32m     13\u001b[0m     \u001b[39mreturn\u001b[39;00m \u001b[39m\"\u001b[39m\u001b[39m \u001b[39m\u001b[39m\"\u001b[39m\u001b[39m.\u001b[39mjoin([word \u001b[39mfor\u001b[39;00m word \u001b[39min\u001b[39;00m token \u001b[39mif\u001b[39;00m \u001b[39mnot\u001b[39;00m word \u001b[39min\u001b[39;00m english_stop_words])\n",
      "\u001b[0;31mAttributeError\u001b[0m: 'float' object has no attribute 'split'"
     ]
    }
   ],
   "source": [
    "df_no_stopwords = wcloud.remove_stopwords(name=car_name, df=df)\n",
    "df_no_stopwords.head()"
   ]
  }
 ],
 "metadata": {
  "kernelspec": {
   "display_name": "Python 3.9.13 64-bit",
   "language": "python",
   "name": "python3"
  },
  "language_info": {
   "codemirror_mode": {
    "name": "ipython",
    "version": 3
   },
   "file_extension": ".py",
   "mimetype": "text/x-python",
   "name": "python",
   "nbconvert_exporter": "python",
   "pygments_lexer": "ipython3",
   "version": "3.9.13"
  },
  "orig_nbformat": 4,
  "vscode": {
   "interpreter": {
    "hash": "aee8b7b246df8f9039afb4144a1f6fd8d2ca17a180786b69acc140d282b71a49"
   }
  }
 },
 "nbformat": 4,
 "nbformat_minor": 2
}
