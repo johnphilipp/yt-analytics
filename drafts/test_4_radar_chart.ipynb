{
 "cells": [
  {
   "cell_type": "code",
   "execution_count": 2,
   "metadata": {},
   "outputs": [
    {
     "ename": "KeyError",
     "evalue": "'content_clean'",
     "output_type": "error",
     "traceback": [
      "\u001b[0;31m---------------------------------------------------------------------------\u001b[0m",
      "\u001b[0;31mKeyError\u001b[0m                                  Traceback (most recent call last)",
      "File \u001b[0;32m/usr/local/lib/python3.9/site-packages/pandas/core/indexes/base.py:3621\u001b[0m, in \u001b[0;36mIndex.get_loc\u001b[0;34m(self, key, method, tolerance)\u001b[0m\n\u001b[1;32m   3620\u001b[0m \u001b[39mtry\u001b[39;00m:\n\u001b[0;32m-> 3621\u001b[0m     \u001b[39mreturn\u001b[39;00m \u001b[39mself\u001b[39;49m\u001b[39m.\u001b[39;49m_engine\u001b[39m.\u001b[39;49mget_loc(casted_key)\n\u001b[1;32m   3622\u001b[0m \u001b[39mexcept\u001b[39;00m \u001b[39mKeyError\u001b[39;00m \u001b[39mas\u001b[39;00m err:\n",
      "File \u001b[0;32mpandas/_libs/index.pyx:136\u001b[0m, in \u001b[0;36mpandas._libs.index.IndexEngine.get_loc\u001b[0;34m()\u001b[0m\n",
      "File \u001b[0;32mpandas/_libs/index.pyx:163\u001b[0m, in \u001b[0;36mpandas._libs.index.IndexEngine.get_loc\u001b[0;34m()\u001b[0m\n",
      "File \u001b[0;32mpandas/_libs/hashtable_class_helper.pxi:5198\u001b[0m, in \u001b[0;36mpandas._libs.hashtable.PyObjectHashTable.get_item\u001b[0;34m()\u001b[0m\n",
      "File \u001b[0;32mpandas/_libs/hashtable_class_helper.pxi:5206\u001b[0m, in \u001b[0;36mpandas._libs.hashtable.PyObjectHashTable.get_item\u001b[0;34m()\u001b[0m\n",
      "\u001b[0;31mKeyError\u001b[0m: 'content_clean'",
      "\nThe above exception was the direct cause of the following exception:\n",
      "\u001b[0;31mKeyError\u001b[0m                                  Traceback (most recent call last)",
      "\u001b[1;32m/Users/philippjohn/Developer/youtube-analytics/drafts/test_radar_chart.ipynb Cell 1'\u001b[0m in \u001b[0;36m<cell line: 16>\u001b[0;34m()\u001b[0m\n\u001b[1;32m     <a href='vscode-notebook-cell:/Users/philippjohn/Developer/youtube-analytics/drafts/test_radar_chart.ipynb#ch0000000?line=12'>13</a>\u001b[0m     \u001b[39mreturn\u001b[39;00m df_feature\n\u001b[1;32m     <a href='vscode-notebook-cell:/Users/philippjohn/Developer/youtube-analytics/drafts/test_radar_chart.ipynb#ch0000000?line=14'>15</a>\u001b[0m feature \u001b[39m=\u001b[39m \u001b[39m\"\u001b[39m\u001b[39mcolor\u001b[39m\u001b[39m\"\u001b[39m\n\u001b[0;32m---> <a href='vscode-notebook-cell:/Users/philippjohn/Developer/youtube-analytics/drafts/test_radar_chart.ipynb#ch0000000?line=15'>16</a>\u001b[0m df_feature \u001b[39m=\u001b[39m get_df_with_feature(feature)\n\u001b[1;32m     <a href='vscode-notebook-cell:/Users/philippjohn/Developer/youtube-analytics/drafts/test_radar_chart.ipynb#ch0000000?line=16'>17</a>\u001b[0m \u001b[39mlen\u001b[39m(df_feature)\n",
      "\u001b[1;32m/Users/philippjohn/Developer/youtube-analytics/drafts/test_radar_chart.ipynb Cell 1'\u001b[0m in \u001b[0;36mget_df_with_feature\u001b[0;34m(feature)\u001b[0m\n\u001b[1;32m      <a href='vscode-notebook-cell:/Users/philippjohn/Developer/youtube-analytics/drafts/test_radar_chart.ipynb#ch0000000?line=8'>9</a>\u001b[0m \u001b[39mdef\u001b[39;00m \u001b[39mget_df_with_feature\u001b[39m(feature):\n\u001b[1;32m     <a href='vscode-notebook-cell:/Users/philippjohn/Developer/youtube-analytics/drafts/test_radar_chart.ipynb#ch0000000?line=9'>10</a>\u001b[0m     df_feature \u001b[39m=\u001b[39m pd\u001b[39m.\u001b[39mDataFrame()\n\u001b[0;32m---> <a href='vscode-notebook-cell:/Users/philippjohn/Developer/youtube-analytics/drafts/test_radar_chart.ipynb#ch0000000?line=10'>11</a>\u001b[0m     df_feature \u001b[39m=\u001b[39m pd\u001b[39m.\u001b[39mconcat([df_feature, df[df[\u001b[39m\"\u001b[39;49m\u001b[39mcontent_clean\u001b[39;49m\u001b[39m\"\u001b[39;49m]\u001b[39m.\u001b[39mstr\u001b[39m.\u001b[39mcontains(feature)]], axis\u001b[39m=\u001b[39m\u001b[39m0\u001b[39m)\n\u001b[1;32m     <a href='vscode-notebook-cell:/Users/philippjohn/Developer/youtube-analytics/drafts/test_radar_chart.ipynb#ch0000000?line=11'>12</a>\u001b[0m     df_feature[\u001b[39m\"\u001b[39m\u001b[39mfeature\u001b[39m\u001b[39m\"\u001b[39m] \u001b[39m=\u001b[39m feature\n\u001b[1;32m     <a href='vscode-notebook-cell:/Users/philippjohn/Developer/youtube-analytics/drafts/test_radar_chart.ipynb#ch0000000?line=12'>13</a>\u001b[0m     \u001b[39mreturn\u001b[39;00m df_feature\n",
      "File \u001b[0;32m/usr/local/lib/python3.9/site-packages/pandas/core/frame.py:3505\u001b[0m, in \u001b[0;36mDataFrame.__getitem__\u001b[0;34m(self, key)\u001b[0m\n\u001b[1;32m   3503\u001b[0m \u001b[39mif\u001b[39;00m \u001b[39mself\u001b[39m\u001b[39m.\u001b[39mcolumns\u001b[39m.\u001b[39mnlevels \u001b[39m>\u001b[39m \u001b[39m1\u001b[39m:\n\u001b[1;32m   3504\u001b[0m     \u001b[39mreturn\u001b[39;00m \u001b[39mself\u001b[39m\u001b[39m.\u001b[39m_getitem_multilevel(key)\n\u001b[0;32m-> 3505\u001b[0m indexer \u001b[39m=\u001b[39m \u001b[39mself\u001b[39;49m\u001b[39m.\u001b[39;49mcolumns\u001b[39m.\u001b[39;49mget_loc(key)\n\u001b[1;32m   3506\u001b[0m \u001b[39mif\u001b[39;00m is_integer(indexer):\n\u001b[1;32m   3507\u001b[0m     indexer \u001b[39m=\u001b[39m [indexer]\n",
      "File \u001b[0;32m/usr/local/lib/python3.9/site-packages/pandas/core/indexes/base.py:3623\u001b[0m, in \u001b[0;36mIndex.get_loc\u001b[0;34m(self, key, method, tolerance)\u001b[0m\n\u001b[1;32m   3621\u001b[0m     \u001b[39mreturn\u001b[39;00m \u001b[39mself\u001b[39m\u001b[39m.\u001b[39m_engine\u001b[39m.\u001b[39mget_loc(casted_key)\n\u001b[1;32m   3622\u001b[0m \u001b[39mexcept\u001b[39;00m \u001b[39mKeyError\u001b[39;00m \u001b[39mas\u001b[39;00m err:\n\u001b[0;32m-> 3623\u001b[0m     \u001b[39mraise\u001b[39;00m \u001b[39mKeyError\u001b[39;00m(key) \u001b[39mfrom\u001b[39;00m \u001b[39merr\u001b[39;00m\n\u001b[1;32m   3624\u001b[0m \u001b[39mexcept\u001b[39;00m \u001b[39mTypeError\u001b[39;00m:\n\u001b[1;32m   3625\u001b[0m     \u001b[39m# If we have a listlike key, _check_indexing_error will raise\u001b[39;00m\n\u001b[1;32m   3626\u001b[0m     \u001b[39m#  InvalidIndexError. Otherwise we fall through and re-raise\u001b[39;00m\n\u001b[1;32m   3627\u001b[0m     \u001b[39m#  the TypeError.\u001b[39;00m\n\u001b[1;32m   3628\u001b[0m     \u001b[39mself\u001b[39m\u001b[39m.\u001b[39m_check_indexing_error(key)\n",
      "\u001b[0;31mKeyError\u001b[0m: 'content_clean'"
     ]
    }
   ],
   "source": [
    "import pandas as pd\n",
    "\n",
    "data_path = \"/Users/philippjohn/Developer/youtube-analytics-data/\"\n",
    "car = \"Porsche_911_GT3​\"\n",
    "\n",
    "df = pd.read_csv(data_path + car + \"/content.csv\", header=[0], lineterminator='\\n')\n",
    "\n",
    "# New df which filters to only include comments that contain meantion of a feature\n",
    "def get_df_with_feature(feature):\n",
    "    df_feature = pd.DataFrame()\n",
    "    df_feature = pd.concat([df_feature, df[df[\"content_clean\"].str.contains(feature)]], axis=0)\n",
    "    df_feature[\"feature\"] = feature\n",
    "    return df_feature\n",
    "\n",
    "feature = \"color\"\n",
    "df_feature = get_df_with_feature(feature)\n",
    "len(df_feature)"
   ]
  }
 ],
 "metadata": {
  "kernelspec": {
   "display_name": "Python 3.9.13 64-bit",
   "language": "python",
   "name": "python3"
  },
  "language_info": {
   "codemirror_mode": {
    "name": "ipython",
    "version": 3
   },
   "file_extension": ".py",
   "mimetype": "text/x-python",
   "name": "python",
   "nbconvert_exporter": "python",
   "pygments_lexer": "ipython3",
   "version": "3.9.13"
  },
  "orig_nbformat": 4,
  "vscode": {
   "interpreter": {
    "hash": "aee8b7b246df8f9039afb4144a1f6fd8d2ca17a180786b69acc140d282b71a49"
   }
  }
 },
 "nbformat": 4,
 "nbformat_minor": 2
}
